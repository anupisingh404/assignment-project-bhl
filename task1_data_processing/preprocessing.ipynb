{
 "cells": [
  {
   "cell_type": "code",
   "execution_count": 9,
   "id": "42de1e24-b43e-4d3a-bfed-c57d770a2f78",
   "metadata": {},
   "outputs": [],
   "source": [
    "#Import Libraries\n",
    "import pandas as pd"
   ]
  },
  {
   "cell_type": "code",
   "execution_count": 10,
   "id": "af12b0e5-7e17-4672-9a41-1d163cfca96f",
   "metadata": {},
   "outputs": [],
   "source": [
    "#Load Dataset\n",
    "df = pd.read_csv(\"sample_dataset.csv\")"
   ]
  },
  {
   "cell_type": "code",
   "execution_count": 11,
   "id": "3d5a2bbf-4458-4f5f-a821-08cfb860a1eb",
   "metadata": {},
   "outputs": [
    {
     "name": "stdout",
     "output_type": "stream",
     "text": [
      "id              0.0\n",
      "name            0.0\n",
      "age            30.0\n",
      "salary         24.0\n",
      "department     27.0\n",
      "join_date       0.0\n",
      "last_active     3.0\n",
      "dtype: float64\n"
     ]
    }
   ],
   "source": [
    "#Checking Missing Values\n",
    "missing = df.isnull().sum()\n",
    "missing_percentage = (missing / len(df)) * 100\n",
    "print(missing_percentage)"
   ]
  },
  {
   "cell_type": "code",
   "execution_count": 13,
   "id": "538581ec-bf79-4dd9-81b3-562ce0389e40",
   "metadata": {},
   "outputs": [],
   "source": [
    "#Handling Missing Values\n",
    "df.ffill(inplace=True)"
   ]
  },
  {
   "cell_type": "code",
   "execution_count": 15,
   "id": "9dcaac64-76d5-4562-8821-508c3e37019b",
   "metadata": {},
   "outputs": [],
   "source": [
    "#Feature Engineering\n",
    "#Converting join_date to proper datetime format.\n",
    "#Creating a new column day_of_week_joined (e.g., Monday, Tuesday).\n",
    "df['join_date'] = pd.to_datetime(df['join_date'])\n",
    "df['day_of_week_joined'] = df['join_date'].dt.day_name()"
   ]
  },
  {
   "cell_type": "code",
   "execution_count": 16,
   "id": "dda85312-7f78-467e-aab6-8b1912604912",
   "metadata": {},
   "outputs": [],
   "source": [
    "#Data Optimization\n",
    "#Reducing memory usage by converting larger numeric types to smaller ones (e.g., float64 -> float32).\n",
    "for col in df.select_dtypes(include=['int64', 'float64']).columns:\n",
    "    df[col] = pd.to_numeric(df[col], downcast='float')"
   ]
  },
  {
   "cell_type": "code",
   "execution_count": 18,
   "id": "554e7ea6-41b1-4ddd-a9ef-f91f70f878d5",
   "metadata": {},
   "outputs": [],
   "source": [
    "#Storing processed data\n",
    "df.to_csv(\"processed_data.csv\", index=False)"
   ]
  },
  {
   "cell_type": "code",
   "execution_count": null,
   "id": "4620a86d-3a6f-435a-82a1-e78bc013d270",
   "metadata": {},
   "outputs": [],
   "source": []
  }
 ],
 "metadata": {
  "kernelspec": {
   "display_name": "Python 3 (ipykernel)",
   "language": "python",
   "name": "python3"
  },
  "language_info": {
   "codemirror_mode": {
    "name": "ipython",
    "version": 3
   },
   "file_extension": ".py",
   "mimetype": "text/x-python",
   "name": "python",
   "nbconvert_exporter": "python",
   "pygments_lexer": "ipython3",
   "version": "3.12.3"
  }
 },
 "nbformat": 4,
 "nbformat_minor": 5
}
